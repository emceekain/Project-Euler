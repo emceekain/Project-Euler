{
 "cells": [
  {
   "cell_type": "markdown",
   "metadata": {},
   "source": [
    "# Problem 9 - Special Pythagorean triplet\n",
    "\n",
    "A Pythagorean triplet is a set of three natural numbers, $a < b < c$, for which,\n",
    "$a^2 + b^2 = c^2$\n",
    "\n",
    "For example, $3^2 + 4^2 = 9 + 16 = 25 = 5^2$.\n",
    "\n",
    "There exists exactly one Pythagorean triplet for which $a + b + c = 1000$.\n",
    "Find the product abc.\n",
    "\n",
    "## Solution:\n",
    "First of all elementary algebra shows that allows us to solve conclude $$b=\\frac{1000(500-a)}{1000-a}.$$ The obvious bound on a is $1<a<1000$, however, upon closer inspection, we see that $1<a<500$\n"
   ]
  },
  {
   "cell_type": "code",
   "execution_count": 19,
   "metadata": {
    "collapsed": false
   },
   "outputs": [
    {
     "name": "stdout",
     "output_type": "stream",
     "text": [
      "a = 200 and b = 375 and c = 425.\n",
      "The product is 31875000.\n",
      "a = 375 and b = 200 and c = 425.\n",
      "The product is 31875000.\n"
     ]
    },
    {
     "name": "stderr",
     "output_type": "stream",
     "text": [
      "/usr/lib/python2.7/json/encoder.py:207: DeprecationWarning: Interpreting naive datetime as local 2017-04-04 22:00:15.400986. Please add timezone info to timestamps.\n",
      "  chunks = self.iterencode(o, _one_shot=True)\n"
     ]
    }
   ],
   "source": [
    "for a in range(1,500):\n",
    "    if 1000*(500-a) %(1000-a)==0:\n",
    "        b= 1000*(500-a)/(1000-a)\n",
    "        c= 1000-a-b\n",
    "        print \"a = %d and b = %d and c = %d.\" % (a,b,c)\n",
    "        print \"The product is %d.\" % (a*b*c)\n",
    " "
   ]
  },
  {
   "cell_type": "code",
   "execution_count": null,
   "metadata": {
    "collapsed": true
   },
   "outputs": [],
   "source": []
  }
 ],
 "metadata": {
  "kernelspec": {
   "display_name": "SageMath 7.6",
   "language": "",
   "name": "sagemath"
  },
  "language_info": {
   "codemirror_mode": {
    "name": "ipython",
    "version": 2
   },
   "file_extension": ".py",
   "mimetype": "text/x-python",
   "name": "python",
   "nbconvert_exporter": "python",
   "pygments_lexer": "ipython2",
   "version": "2.7.13"
  }
 },
 "nbformat": 4,
 "nbformat_minor": 2
}
